{
 "cells": [
  {
   "cell_type": "code",
   "execution_count": 82,
   "id": "3ebcbe37-aa46-4c6b-9a03-b38faaf21d37",
   "metadata": {},
   "outputs": [],
   "source": [
    "import pandas as pd\n",
    "import numpy as np\n",
    "import matplotlib.pyplot as plt\n",
    "import seaborn as sns"
   ]
  },
  {
   "cell_type": "code",
   "execution_count": 84,
   "id": "ac0d9065-40a5-40e5-a33c-6250912d9d0c",
   "metadata": {},
   "outputs": [],
   "source": [
    "df= pd.read_csv('Cookie_Cats_cleaned_v01.csv')"
   ]
  },
  {
   "cell_type": "code",
   "execution_count": 86,
   "id": "251ab92c-7d92-4029-9ef3-ef6b8e8ccf8b",
   "metadata": {},
   "outputs": [
    {
     "data": {
      "text/html": [
       "<div>\n",
       "<style scoped>\n",
       "    .dataframe tbody tr th:only-of-type {\n",
       "        vertical-align: middle;\n",
       "    }\n",
       "\n",
       "    .dataframe tbody tr th {\n",
       "        vertical-align: top;\n",
       "    }\n",
       "\n",
       "    .dataframe thead th {\n",
       "        text-align: right;\n",
       "    }\n",
       "</style>\n",
       "<table border=\"1\" class=\"dataframe\">\n",
       "  <thead>\n",
       "    <tr style=\"text-align: right;\">\n",
       "      <th></th>\n",
       "      <th>userid</th>\n",
       "      <th>version</th>\n",
       "      <th>sum_gamerounds</th>\n",
       "      <th>retention_1</th>\n",
       "      <th>retention_7</th>\n",
       "    </tr>\n",
       "  </thead>\n",
       "  <tbody>\n",
       "    <tr>\n",
       "      <th>0</th>\n",
       "      <td>116</td>\n",
       "      <td>gate_30</td>\n",
       "      <td>3</td>\n",
       "      <td>False</td>\n",
       "      <td>False</td>\n",
       "    </tr>\n",
       "    <tr>\n",
       "      <th>1</th>\n",
       "      <td>337</td>\n",
       "      <td>gate_30</td>\n",
       "      <td>38</td>\n",
       "      <td>True</td>\n",
       "      <td>False</td>\n",
       "    </tr>\n",
       "    <tr>\n",
       "      <th>2</th>\n",
       "      <td>377</td>\n",
       "      <td>gate_40</td>\n",
       "      <td>165</td>\n",
       "      <td>True</td>\n",
       "      <td>False</td>\n",
       "    </tr>\n",
       "    <tr>\n",
       "      <th>3</th>\n",
       "      <td>483</td>\n",
       "      <td>gate_40</td>\n",
       "      <td>1</td>\n",
       "      <td>False</td>\n",
       "      <td>False</td>\n",
       "    </tr>\n",
       "    <tr>\n",
       "      <th>4</th>\n",
       "      <td>488</td>\n",
       "      <td>gate_40</td>\n",
       "      <td>179</td>\n",
       "      <td>True</td>\n",
       "      <td>True</td>\n",
       "    </tr>\n",
       "  </tbody>\n",
       "</table>\n",
       "</div>"
      ],
      "text/plain": [
       "   userid  version  sum_gamerounds  retention_1  retention_7\n",
       "0     116  gate_30               3        False        False\n",
       "1     337  gate_30              38         True        False\n",
       "2     377  gate_40             165         True        False\n",
       "3     483  gate_40               1        False        False\n",
       "4     488  gate_40             179         True         True"
      ]
     },
     "execution_count": 86,
     "metadata": {},
     "output_type": "execute_result"
    }
   ],
   "source": [
    "df.head()"
   ]
  },
  {
   "cell_type": "code",
   "execution_count": 88,
   "id": "4e1a0aad-5e5f-45eb-94c6-5ce88442eba8",
   "metadata": {},
   "outputs": [
    {
     "data": {
      "text/plain": [
       "(90189, 5)"
      ]
     },
     "execution_count": 88,
     "metadata": {},
     "output_type": "execute_result"
    }
   ],
   "source": [
    "df.shape"
   ]
  },
  {
   "cell_type": "code",
   "execution_count": 90,
   "id": "5303c67d-b364-4b6b-a59f-c15401a6987f",
   "metadata": {},
   "outputs": [
    {
     "data": {
      "text/plain": [
       "userid            0\n",
       "version           0\n",
       "sum_gamerounds    0\n",
       "retention_1       0\n",
       "retention_7       0\n",
       "dtype: int64"
      ]
     },
     "execution_count": 90,
     "metadata": {},
     "output_type": "execute_result"
    }
   ],
   "source": [
    "df.isna().sum()"
   ]
  },
  {
   "cell_type": "code",
   "execution_count": 92,
   "id": "7ae21051-2e76-4ef7-8011-7c72c83f634e",
   "metadata": {},
   "outputs": [
    {
     "data": {
      "text/plain": [
       "False    90189\n",
       "Name: count, dtype: int64"
      ]
     },
     "execution_count": 92,
     "metadata": {},
     "output_type": "execute_result"
    }
   ],
   "source": [
    "df.duplicated().value_counts()"
   ]
  },
  {
   "cell_type": "code",
   "execution_count": 94,
   "id": "42e39bcf-e5a1-452c-8eca-34229f2d97ac",
   "metadata": {},
   "outputs": [
    {
     "name": "stdout",
     "output_type": "stream",
     "text": [
      "<class 'pandas.core.frame.DataFrame'>\n",
      "RangeIndex: 90189 entries, 0 to 90188\n",
      "Data columns (total 5 columns):\n",
      " #   Column          Non-Null Count  Dtype \n",
      "---  ------          --------------  ----- \n",
      " 0   userid          90189 non-null  int64 \n",
      " 1   version         90189 non-null  object\n",
      " 2   sum_gamerounds  90189 non-null  int64 \n",
      " 3   retention_1     90189 non-null  bool  \n",
      " 4   retention_7     90189 non-null  bool  \n",
      "dtypes: bool(2), int64(2), object(1)\n",
      "memory usage: 2.2+ MB\n"
     ]
    }
   ],
   "source": [
    "df.info()"
   ]
  },
  {
   "cell_type": "code",
   "execution_count": 96,
   "id": "8b74d68a-9be8-494d-bdfe-1241d250fdd1",
   "metadata": {},
   "outputs": [
    {
     "data": {
      "text/html": [
       "<div>\n",
       "<style scoped>\n",
       "    .dataframe tbody tr th:only-of-type {\n",
       "        vertical-align: middle;\n",
       "    }\n",
       "\n",
       "    .dataframe tbody tr th {\n",
       "        vertical-align: top;\n",
       "    }\n",
       "\n",
       "    .dataframe thead th {\n",
       "        text-align: right;\n",
       "    }\n",
       "</style>\n",
       "<table border=\"1\" class=\"dataframe\">\n",
       "  <thead>\n",
       "    <tr style=\"text-align: right;\">\n",
       "      <th></th>\n",
       "      <th>userid</th>\n",
       "      <th>sum_gamerounds</th>\n",
       "    </tr>\n",
       "  </thead>\n",
       "  <tbody>\n",
       "    <tr>\n",
       "      <th>count</th>\n",
       "      <td>9.018900e+04</td>\n",
       "      <td>90189.000000</td>\n",
       "    </tr>\n",
       "    <tr>\n",
       "      <th>mean</th>\n",
       "      <td>4.998412e+06</td>\n",
       "      <td>51.872457</td>\n",
       "    </tr>\n",
       "    <tr>\n",
       "      <th>std</th>\n",
       "      <td>2.883286e+06</td>\n",
       "      <td>195.050858</td>\n",
       "    </tr>\n",
       "    <tr>\n",
       "      <th>min</th>\n",
       "      <td>1.160000e+02</td>\n",
       "      <td>0.000000</td>\n",
       "    </tr>\n",
       "    <tr>\n",
       "      <th>25%</th>\n",
       "      <td>2.512230e+06</td>\n",
       "      <td>5.000000</td>\n",
       "    </tr>\n",
       "    <tr>\n",
       "      <th>50%</th>\n",
       "      <td>4.995815e+06</td>\n",
       "      <td>16.000000</td>\n",
       "    </tr>\n",
       "    <tr>\n",
       "      <th>75%</th>\n",
       "      <td>7.496452e+06</td>\n",
       "      <td>51.000000</td>\n",
       "    </tr>\n",
       "    <tr>\n",
       "      <th>max</th>\n",
       "      <td>9.999861e+06</td>\n",
       "      <td>49854.000000</td>\n",
       "    </tr>\n",
       "  </tbody>\n",
       "</table>\n",
       "</div>"
      ],
      "text/plain": [
       "             userid  sum_gamerounds\n",
       "count  9.018900e+04    90189.000000\n",
       "mean   4.998412e+06       51.872457\n",
       "std    2.883286e+06      195.050858\n",
       "min    1.160000e+02        0.000000\n",
       "25%    2.512230e+06        5.000000\n",
       "50%    4.995815e+06       16.000000\n",
       "75%    7.496452e+06       51.000000\n",
       "max    9.999861e+06    49854.000000"
      ]
     },
     "execution_count": 96,
     "metadata": {},
     "output_type": "execute_result"
    }
   ],
   "source": [
    "df.describe()"
   ]
  },
  {
   "cell_type": "code",
   "execution_count": 98,
   "id": "8754a88f-3ef5-4f79-bea6-f8654c87943f",
   "metadata": {},
   "outputs": [],
   "source": [
    "numeric_columns = df.select_dtypes(include=[np.number]).columns\n",
    "numeric_stats= df[numeric_columns].describe().transpose()\n",
    "\n",
    "numeric_stats['skewness']= df[numeric_columns].skew()\n",
    "numeric_stats['kurtosis']= df[numeric_columns].kurt()\n",
    "\n",
    "\n",
    "version_percentage =  df['version'].value_counts(normalize=True)*100\n",
    "retention_1_percentage= df['retention_1'].value_counts(normalize=True)*100\n",
    "retention_7_percentage= df['retention_7'].value_counts(normalize=True)*100"
   ]
  },
  {
   "cell_type": "code",
   "execution_count": 100,
   "id": "71f07636-7471-466a-93e1-272dc50578f3",
   "metadata": {},
   "outputs": [
    {
     "data": {
      "text/plain": [
       "Index(['userid', 'sum_gamerounds'], dtype='object')"
      ]
     },
     "execution_count": 100,
     "metadata": {},
     "output_type": "execute_result"
    }
   ],
   "source": [
    "numeric_columns"
   ]
  },
  {
   "cell_type": "code",
   "execution_count": 102,
   "id": "97b4794e-76d6-454a-a7cd-d785c05a186a",
   "metadata": {},
   "outputs": [
    {
     "data": {
      "text/html": [
       "<div>\n",
       "<style scoped>\n",
       "    .dataframe tbody tr th:only-of-type {\n",
       "        vertical-align: middle;\n",
       "    }\n",
       "\n",
       "    .dataframe tbody tr th {\n",
       "        vertical-align: top;\n",
       "    }\n",
       "\n",
       "    .dataframe thead th {\n",
       "        text-align: right;\n",
       "    }\n",
       "</style>\n",
       "<table border=\"1\" class=\"dataframe\">\n",
       "  <thead>\n",
       "    <tr style=\"text-align: right;\">\n",
       "      <th></th>\n",
       "      <th>count</th>\n",
       "      <th>mean</th>\n",
       "      <th>std</th>\n",
       "      <th>min</th>\n",
       "      <th>25%</th>\n",
       "      <th>50%</th>\n",
       "      <th>75%</th>\n",
       "      <th>max</th>\n",
       "      <th>skewness</th>\n",
       "      <th>kurtosis</th>\n",
       "    </tr>\n",
       "  </thead>\n",
       "  <tbody>\n",
       "    <tr>\n",
       "      <th>userid</th>\n",
       "      <td>90189.0</td>\n",
       "      <td>4.998412e+06</td>\n",
       "      <td>2.883286e+06</td>\n",
       "      <td>116.0</td>\n",
       "      <td>2512230.0</td>\n",
       "      <td>4995815.0</td>\n",
       "      <td>7496452.0</td>\n",
       "      <td>9999861.0</td>\n",
       "      <td>-0.001290</td>\n",
       "      <td>-1.196740</td>\n",
       "    </tr>\n",
       "    <tr>\n",
       "      <th>sum_gamerounds</th>\n",
       "      <td>90189.0</td>\n",
       "      <td>5.187246e+01</td>\n",
       "      <td>1.950509e+02</td>\n",
       "      <td>0.0</td>\n",
       "      <td>5.0</td>\n",
       "      <td>16.0</td>\n",
       "      <td>51.0</td>\n",
       "      <td>49854.0</td>\n",
       "      <td>185.436313</td>\n",
       "      <td>47130.369631</td>\n",
       "    </tr>\n",
       "  </tbody>\n",
       "</table>\n",
       "</div>"
      ],
      "text/plain": [
       "                  count          mean           std    min        25%  \\\n",
       "userid          90189.0  4.998412e+06  2.883286e+06  116.0  2512230.0   \n",
       "sum_gamerounds  90189.0  5.187246e+01  1.950509e+02    0.0        5.0   \n",
       "\n",
       "                      50%        75%        max    skewness      kurtosis  \n",
       "userid          4995815.0  7496452.0  9999861.0   -0.001290     -1.196740  \n",
       "sum_gamerounds       16.0       51.0    49854.0  185.436313  47130.369631  "
      ]
     },
     "execution_count": 102,
     "metadata": {},
     "output_type": "execute_result"
    }
   ],
   "source": [
    "numeric_stats.head()"
   ]
  },
  {
   "cell_type": "code",
   "execution_count": 104,
   "id": "95ced22b-859b-41d7-a988-7eac10cdc6cc",
   "metadata": {},
   "outputs": [
    {
     "data": {
      "text/plain": [
       "version\n",
       "gate_40    50.437415\n",
       "gate_30    49.562585\n",
       "Name: proportion, dtype: float64"
      ]
     },
     "execution_count": 104,
     "metadata": {},
     "output_type": "execute_result"
    }
   ],
   "source": [
    "version_percentage"
   ]
  },
  {
   "cell_type": "code",
   "execution_count": 106,
   "id": "84451eac-360c-4ac5-84bc-7b626e465d4d",
   "metadata": {},
   "outputs": [
    {
     "data": {
      "text/plain": [
       "(retention_1\n",
       " False    55.47905\n",
       " True     44.52095\n",
       " Name: proportion, dtype: float64,\n",
       " retention_7\n",
       " False    81.393518\n",
       " True     18.606482\n",
       " Name: proportion, dtype: float64)"
      ]
     },
     "execution_count": 106,
     "metadata": {},
     "output_type": "execute_result"
    }
   ],
   "source": [
    "retention_1_percentage,retention_7_percentage"
   ]
  },
  {
   "cell_type": "code",
   "execution_count": 108,
   "id": "7fe3cc81-2244-46fa-908d-4520a95358cb",
   "metadata": {},
   "outputs": [
    {
     "name": "stdout",
     "output_type": "stream",
     "text": [
      "   version  Did Not Return on Day 1  Returned on Day 1\n",
      "0  gate_30                 0.551812           0.448188\n",
      "1  gate_40                 0.557717           0.442283\n",
      "2      All                 0.554790           0.445210\n",
      "   version  Did Not Return on Day 7  Returned on Day 7\n",
      "0  gate_30                 0.809799           0.190201\n",
      "1  gate_40                 0.818000           0.182000\n",
      "2      All                 0.813935           0.186065\n"
     ]
    }
   ],
   "source": [
    "retention_day1_table= pd.crosstab(df.version, df['retention_1'],normalize='index',margins=True)\n",
    "retention_day1_table.columns = ['Did Not Return on Day 1', 'Returned on Day 1']\n",
    "retention_day1_table= retention_day1_table.reset_index()\n",
    "\n",
    "retention_day7_table= pd.crosstab(df.version, df['retention_7'],normalize='index',margins=True)\n",
    "retention_day7_table.columns = ['Did Not Return on Day 7', 'Returned on Day 7']\n",
    "retention_day7_table= retention_day7_table.reset_index()\n",
    "\n",
    "print(retention_day1_table)\n",
    "print(retention_day7_table)\n",
    "\n"
   ]
  },
  {
   "cell_type": "code",
   "execution_count": 110,
   "id": "8af25af1-9337-4451-a775-106057d52ac3",
   "metadata": {},
   "outputs": [],
   "source": [
    "numeric_columns=['sum_gamerounds']\n",
    "descriptive_stats_by_version= df.groupby('version')[numeric_columns].describe()\n",
    "skewness_per_version= df.groupby('version')[numeric_columns].apply(lambda col: col.skew()).unstack()\n",
    "kurtosis_per_version= df.groupby('version')[numeric_columns].apply(lambda col: col.kurtosis()).unstack()\n",
    "\n",
    "reshaped_stats = descriptive_stats_by_version.unstack().T\n",
    "reshaped_stats['skewness']= skewness_per_version.unstack().values.flatten()\n",
    "reshaped_stats['kurtosis']= kurtosis_per_version.unstack().values.flatten()\n",
    "\n",
    "final_stats= reshaped_stats.reset_index()"
   ]
  },
  {
   "cell_type": "code",
   "execution_count": 112,
   "id": "3d1ba3e1-a8c4-4515-a166-06a685ad05f7",
   "metadata": {},
   "outputs": [
    {
     "name": "stdout",
     "output_type": "stream",
     "text": [
      "           level_0 level_1  version                                        0\n",
      "0   sum_gamerounds   count  gate_30                                  44700.0\n",
      "1   sum_gamerounds   count  gate_40                                  45489.0\n",
      "2   sum_gamerounds    mean  gate_30                                52.456264\n",
      "3   sum_gamerounds    mean  gate_40                                51.298776\n",
      "4   sum_gamerounds     std  gate_30                               256.716423\n",
      "5   sum_gamerounds     std  gate_40                               103.294416\n",
      "6   sum_gamerounds     min  gate_30                                      0.0\n",
      "7   sum_gamerounds     min  gate_40                                      0.0\n",
      "8   sum_gamerounds     25%  gate_30                                      5.0\n",
      "9   sum_gamerounds     25%  gate_40                                      5.0\n",
      "10  sum_gamerounds     50%  gate_30                                     17.0\n",
      "11  sum_gamerounds     50%  gate_40                                     16.0\n",
      "12  sum_gamerounds     75%  gate_30                                     50.0\n",
      "13  sum_gamerounds     75%  gate_40                                     52.0\n",
      "14  sum_gamerounds     max  gate_30                                  49854.0\n",
      "15  sum_gamerounds     max  gate_40                                   2640.0\n",
      "16        skewness                   [163.70987062651201, 5.967287898713902]\n",
      "17        kurtosis                    [31688.38064342865, 63.10608364449687]\n"
     ]
    }
   ],
   "source": [
    "print(final_stats)"
   ]
  },
  {
   "cell_type": "code",
   "execution_count": 114,
   "id": "e26fda0b-a5bd-43b3-9e16-4f97ee663cf0",
   "metadata": {},
   "outputs": [
    {
     "name": "stderr",
     "output_type": "stream",
     "text": [
      "/var/folders/_g/4tg8f_fn5559zxcgb1vxkn3w0000gn/T/ipykernel_2837/4171824475.py:7: FutureWarning: \n",
      "\n",
      "Passing `palette` without assigning `hue` is deprecated and will be removed in v0.14.0. Assign the `x` variable to `hue` and set `legend=False` for the same effect.\n",
      "\n",
      "  sns.barplot(x=version_percentage.index, y=version_percentage.values, ax=axes[0, 0], palette=custom_palette)\n",
      "/var/folders/_g/4tg8f_fn5559zxcgb1vxkn3w0000gn/T/ipykernel_2837/4171824475.py:11: FutureWarning: \n",
      "\n",
      "Passing `palette` without assigning `hue` is deprecated and will be removed in v0.14.0. Assign the `x` variable to `hue` and set `legend=False` for the same effect.\n",
      "\n",
      "  sns.barplot(x=retention_1_percentage.index, y=retention_1_percentage.values, ax=axes[0, 1], palette=custom_palette)\n",
      "/var/folders/_g/4tg8f_fn5559zxcgb1vxkn3w0000gn/T/ipykernel_2837/4171824475.py:15: FutureWarning: \n",
      "\n",
      "Passing `palette` without assigning `hue` is deprecated and will be removed in v0.14.0. Assign the `x` variable to `hue` and set `legend=False` for the same effect.\n",
      "\n",
      "  sns.barplot(x=retention_7_percentage.index, y=retention_7_percentage.values, ax=axes[1, 0], palette=custom_palette)\n",
      "/var/folders/_g/4tg8f_fn5559zxcgb1vxkn3w0000gn/T/ipykernel_2837/4171824475.py:19: FutureWarning: \n",
      "\n",
      "Passing `palette` without assigning `hue` is deprecated and will be removed in v0.14.0. Assign the `x` variable to `hue` and set `legend=False` for the same effect.\n",
      "\n",
      "  sns.boxplot(x='version', y='sum_gamerounds', data=df, ax=axes[1, 1], palette=custom_palette)\n",
      "/var/folders/_g/4tg8f_fn5559zxcgb1vxkn3w0000gn/T/ipykernel_2837/4171824475.py:24: FutureWarning: \n",
      "\n",
      "Passing `palette` without assigning `hue` is deprecated and will be removed in v0.14.0. Assign the `x` variable to `hue` and set `legend=False` for the same effect.\n",
      "\n",
      "  sns.boxplot(x='version', y='sum_gamerounds', data=df, ax=axes[2, 0], palette=custom_palette)\n"
     ]
    },
    {
     "data": {
      "image/png": "[encoded data removed]",
      "text/plain": [
       "<Figure size 1600x2000 with 8 Axes>"
      ]
     },
     "metadata": {},
     "output_type": "display_data"
    }
   ],
   "source": [
    "\n",
    "# Performing EDA\n",
    "custom_palette = ['red', 'yellow']  \n",
    "\n",
    "fig, axes = plt.subplots(4, 2, figsize=(16, 20))\n",
    "fig.tight_layout(pad=5.0)\n",
    "\n",
    "sns.barplot(x=version_percentage.index, y=version_percentage.values, ax=axes[0, 0], palette=custom_palette)\n",
    "axes[0, 0].set_title('Distribution of Version')\n",
    "axes[0, 0].set_ylabel('Percentage')\n",
    "\n",
    "sns.barplot(x=retention_1_percentage.index, y=retention_1_percentage.values, ax=axes[0, 1], palette=custom_palette)\n",
    "axes[0, 1].set_title('Distribution of Retention 1 Day After Installation')\n",
    "axes[0, 1].set_ylabel('Percentage')\n",
    "\n",
    "sns.barplot(x=retention_7_percentage.index, y=retention_7_percentage.values, ax=axes[1, 0], palette=custom_palette)\n",
    "axes[1, 0].set_title('Distribution of Retention 7 Days After Installation')\n",
    "axes[1, 0].set_ylabel('Percentage')\n",
    "\n",
    "sns.boxplot(x='version', y='sum_gamerounds', data=df, ax=axes[1, 1], palette=custom_palette)\n",
    "axes[1, 1].set_yscale('log')\n",
    "axes[1, 1].set_title('Distribution of Sum of Game Rounds')\n",
    "axes[1, 1].set_ylabel('Sum of Game Rounds')\n",
    "\n",
    "sns.boxplot(x='version', y='sum_gamerounds', data=df, ax=axes[2, 0], palette=custom_palette)\n",
    "axes[2, 0].set_yscale('log')\n",
    "axes[2, 0].set_title('Sum of Game Rounds by Version')\n",
    "axes[2, 0].set_ylabel('Sum of Game Rounds')\n",
    "\n",
    "retention_1_by_version = df.groupby(['version', 'retention_1']).size().reset_index(name='counts')\n",
    "retention_1_by_version['percentage'] = retention_1_by_version['counts'] / retention_1_by_version.groupby('version')['counts'].transform('sum') * 100\n",
    "sns.barplot(ax=axes[2, 1], x='version', y='percentage', hue='retention_1', data=retention_1_by_version, palette=custom_palette)\n",
    "for p in axes[2, 1].patches:\n",
    "    height = p.get_height()\n",
    "    axes[2, 1].text(p.get_x() + p.get_width() / 2., height + 1, f'{height:.1f}%', ha='center', va='bottom')\n",
    "axes[2, 1].set_title('Retention 1 Day After Installation by Version')\n",
    "axes[2, 1].set_xlabel('Version')\n",
    "axes[2, 1].set_ylabel('Retention 1 Rate (%)')\n",
    "\n",
    "retention_7_by_version = df.groupby(['version', 'retention_7']).size().reset_index(name='counts')\n",
    "retention_7_by_version['percentage'] = retention_7_by_version['counts'] / retention_7_by_version.groupby('version')['counts'].transform('sum') * 100\n",
    "sns.barplot(ax=axes[3, 0], x='version', y='percentage', hue='retention_7', data=retention_7_by_version, palette=custom_palette)\n",
    "for p in axes[3, 0].patches:\n",
    "    height = p.get_height()\n",
    "    axes[3, 0].text(p.get_x() + p.get_width() / 2., height + 1, f'{height:.1f}%', ha='center', va='bottom')\n",
    "axes[3, 0].set_title('Retention 7 Days After Installation by Version')\n",
    "axes[3, 0].set_xlabel('Version')\n",
    "axes[3, 0].set_ylabel('Retention 7 Rate (%)')\n",
    "\n",
    "plt.tight_layout(rect=[0, 0.03, 1, 0.95])\n",
    "plt.show()\n"
   ]
  },
  {
   "cell_type": "code",
   "execution_count": 116,
   "id": "37bd1364-9509-4670-864c-14ef4a260b60",
   "metadata": {},
   "outputs": [
    {
     "data": {
      "text/plain": [
       "((44700, 5), (45489, 5))"
      ]
     },
     "execution_count": 116,
     "metadata": {},
     "output_type": "execute_result"
    }
   ],
   "source": [
    "control_group= df[df['version']=='gate_30']\n",
    "test_group= df[df['version']=='gate_40']\n",
    "control_group.shape, test_group.shape\n"
   ]
  },
  {
   "cell_type": "code",
   "execution_count": 118,
   "id": "e1f5841f-7230-4e35-9f1f-daa50d787286",
   "metadata": {},
   "outputs": [
    {
     "name": "stdout",
     "output_type": "stream",
     "text": [
      "45.0 117.5 -62.5\n",
      "47.0 122.5 -65.5\n"
     ]
    }
   ],
   "source": [
    "# Handling Outliers\n",
    "def handle_outliers(df,feature):\n",
    "    Q1,Q3= df[feature].quantile([0.25,0.75])\n",
    "    IQR= Q3-Q1\n",
    "    lower= Q1-1.5*IQR\n",
    "    upper= Q3+1.5*IQR\n",
    "    print(IQR,upper,lower)\n",
    "    df1= df[(df[feature]>=lower) & (df[feature]<=upper)]\n",
    "    return df1\n",
    "\n",
    "\n",
    "control_group= handle_outliers(control_group,'sum_gamerounds')\n",
    "test_group= handle_outliers(test_group, 'sum_gamerounds')"
   ]
  },
  {
   "cell_type": "code",
   "execution_count": 120,
   "id": "78738872-ac51-4828-845d-a70c3cd5375d",
   "metadata": {},
   "outputs": [
    {
     "data": {
      "text/plain": [
       "((39493, 5), (40471, 5))"
      ]
     },
     "execution_count": 120,
     "metadata": {},
     "output_type": "execute_result"
    }
   ],
   "source": [
    "control_group.shape, test_group.shape\n"
   ]
  },
  {
   "cell_type": "code",
   "execution_count": 122,
   "id": "495dbdde-0116-412f-8f09-caa94e8304dc",
   "metadata": {},
   "outputs": [],
   "source": [
    "df2= pd.concat([control_group,test_group])"
   ]
  },
  {
   "cell_type": "code",
   "execution_count": 124,
   "id": "09ef66ad-0b71-48ba-a3fe-a81256512586",
   "metadata": {},
   "outputs": [
    {
     "data": {
      "text/html": [
       "<div>\n",
       "<style scoped>\n",
       "    .dataframe tbody tr th:only-of-type {\n",
       "        vertical-align: middle;\n",
       "    }\n",
       "\n",
       "    .dataframe tbody tr th {\n",
       "        vertical-align: top;\n",
       "    }\n",
       "\n",
       "    .dataframe thead th {\n",
       "        text-align: right;\n",
       "    }\n",
       "</style>\n",
       "<table border=\"1\" class=\"dataframe\">\n",
       "  <thead>\n",
       "    <tr style=\"text-align: right;\">\n",
       "      <th></th>\n",
       "      <th>userid</th>\n",
       "      <th>version</th>\n",
       "      <th>sum_gamerounds</th>\n",
       "      <th>retention_1</th>\n",
       "      <th>retention_7</th>\n",
       "    </tr>\n",
       "  </thead>\n",
       "  <tbody>\n",
       "    <tr>\n",
       "      <th>0</th>\n",
       "      <td>116</td>\n",
       "      <td>gate_30</td>\n",
       "      <td>3</td>\n",
       "      <td>False</td>\n",
       "      <td>False</td>\n",
       "    </tr>\n",
       "    <tr>\n",
       "      <th>1</th>\n",
       "      <td>337</td>\n",
       "      <td>gate_30</td>\n",
       "      <td>38</td>\n",
       "      <td>True</td>\n",
       "      <td>False</td>\n",
       "    </tr>\n",
       "    <tr>\n",
       "      <th>6</th>\n",
       "      <td>1066</td>\n",
       "      <td>gate_30</td>\n",
       "      <td>0</td>\n",
       "      <td>False</td>\n",
       "      <td>False</td>\n",
       "    </tr>\n",
       "    <tr>\n",
       "      <th>11</th>\n",
       "      <td>2101</td>\n",
       "      <td>gate_30</td>\n",
       "      <td>0</td>\n",
       "      <td>False</td>\n",
       "      <td>False</td>\n",
       "    </tr>\n",
       "    <tr>\n",
       "      <th>13</th>\n",
       "      <td>2179</td>\n",
       "      <td>gate_30</td>\n",
       "      <td>39</td>\n",
       "      <td>True</td>\n",
       "      <td>False</td>\n",
       "    </tr>\n",
       "  </tbody>\n",
       "</table>\n",
       "</div>"
      ],
      "text/plain": [
       "    userid  version  sum_gamerounds  retention_1  retention_7\n",
       "0      116  gate_30               3        False        False\n",
       "1      337  gate_30              38         True        False\n",
       "6     1066  gate_30               0        False        False\n",
       "11    2101  gate_30               0        False        False\n",
       "13    2179  gate_30              39         True        False"
      ]
     },
     "execution_count": 124,
     "metadata": {},
     "output_type": "execute_result"
    }
   ],
   "source": [
    "df2.head()"
   ]
  },
  {
   "cell_type": "code",
   "execution_count": 126,
   "id": "a92df198-1858-484a-a7f1-67f6607c2bc1",
   "metadata": {},
   "outputs": [
    {
     "data": {
      "text/html": [
       "<div>\n",
       "<style scoped>\n",
       "    .dataframe tbody tr th:only-of-type {\n",
       "        vertical-align: middle;\n",
       "    }\n",
       "\n",
       "    .dataframe tbody tr th {\n",
       "        vertical-align: top;\n",
       "    }\n",
       "\n",
       "    .dataframe thead th {\n",
       "        text-align: right;\n",
       "    }\n",
       "</style>\n",
       "<table border=\"1\" class=\"dataframe\">\n",
       "  <thead>\n",
       "    <tr style=\"text-align: right;\">\n",
       "      <th></th>\n",
       "      <th>userid</th>\n",
       "      <th>version</th>\n",
       "      <th>sum_gamerounds</th>\n",
       "      <th>retention_1</th>\n",
       "      <th>retention_7</th>\n",
       "    </tr>\n",
       "  </thead>\n",
       "  <tbody>\n",
       "    <tr>\n",
       "      <th>85658</th>\n",
       "      <td>9490107</td>\n",
       "      <td>gate_30</td>\n",
       "      <td>14</td>\n",
       "      <td>False</td>\n",
       "      <td>False</td>\n",
       "    </tr>\n",
       "    <tr>\n",
       "      <th>32778</th>\n",
       "      <td>3641760</td>\n",
       "      <td>gate_40</td>\n",
       "      <td>18</td>\n",
       "      <td>False</td>\n",
       "      <td>False</td>\n",
       "    </tr>\n",
       "    <tr>\n",
       "      <th>35261</th>\n",
       "      <td>3904359</td>\n",
       "      <td>gate_40</td>\n",
       "      <td>5</td>\n",
       "      <td>False</td>\n",
       "      <td>False</td>\n",
       "    </tr>\n",
       "    <tr>\n",
       "      <th>49023</th>\n",
       "      <td>5436286</td>\n",
       "      <td>gate_30</td>\n",
       "      <td>1</td>\n",
       "      <td>False</td>\n",
       "      <td>False</td>\n",
       "    </tr>\n",
       "    <tr>\n",
       "      <th>27754</th>\n",
       "      <td>3091645</td>\n",
       "      <td>gate_40</td>\n",
       "      <td>10</td>\n",
       "      <td>False</td>\n",
       "      <td>False</td>\n",
       "    </tr>\n",
       "    <tr>\n",
       "      <th>80011</th>\n",
       "      <td>8856973</td>\n",
       "      <td>gate_40</td>\n",
       "      <td>0</td>\n",
       "      <td>False</td>\n",
       "      <td>False</td>\n",
       "    </tr>\n",
       "    <tr>\n",
       "      <th>54439</th>\n",
       "      <td>6043654</td>\n",
       "      <td>gate_40</td>\n",
       "      <td>10</td>\n",
       "      <td>True</td>\n",
       "      <td>False</td>\n",
       "    </tr>\n",
       "    <tr>\n",
       "      <th>66500</th>\n",
       "      <td>7362864</td>\n",
       "      <td>gate_30</td>\n",
       "      <td>42</td>\n",
       "      <td>True</td>\n",
       "      <td>False</td>\n",
       "    </tr>\n",
       "    <tr>\n",
       "      <th>3538</th>\n",
       "      <td>390538</td>\n",
       "      <td>gate_30</td>\n",
       "      <td>2</td>\n",
       "      <td>False</td>\n",
       "      <td>False</td>\n",
       "    </tr>\n",
       "    <tr>\n",
       "      <th>70773</th>\n",
       "      <td>7847847</td>\n",
       "      <td>gate_30</td>\n",
       "      <td>73</td>\n",
       "      <td>True</td>\n",
       "      <td>False</td>\n",
       "    </tr>\n",
       "  </tbody>\n",
       "</table>\n",
       "</div>"
      ],
      "text/plain": [
       "        userid  version  sum_gamerounds  retention_1  retention_7\n",
       "85658  9490107  gate_30              14        False        False\n",
       "32778  3641760  gate_40              18        False        False\n",
       "35261  3904359  gate_40               5        False        False\n",
       "49023  5436286  gate_30               1        False        False\n",
       "27754  3091645  gate_40              10        False        False\n",
       "80011  8856973  gate_40               0        False        False\n",
       "54439  6043654  gate_40              10         True        False\n",
       "66500  7362864  gate_30              42         True        False\n",
       "3538    390538  gate_30               2        False        False\n",
       "70773  7847847  gate_30              73         True        False"
      ]
     },
     "execution_count": 126,
     "metadata": {},
     "output_type": "execute_result"
    }
   ],
   "source": [
    "df2.sample(10)"
   ]
  },
  {
   "cell_type": "code",
   "execution_count": 128,
   "id": "3304105c-4287-4bd1-9038-608e845162b8",
   "metadata": {},
   "outputs": [],
   "source": [
    "# Feature Engineering\n",
    "numeric_columns=['sum_gamerounds']\n",
    "descriptive_stats_by_version= df2.groupby('version')[numeric_columns].describe()\n",
    "skewness_per_version= df2.groupby('version')[numeric_columns].apply(lambda col: col.skew()).unstack()\n",
    "kurtosis_per_version= df2.groupby('version')[numeric_columns].apply(lambda col: col.kurtosis()).unstack()\n",
    "\n",
    "reshaped_stats = descriptive_stats_by_version.unstack().T\n",
    "reshaped_stats['skewness']= skewness_per_version.unstack().values.flatten()\n",
    "reshaped_stats['kurtosis']= kurtosis_per_version.unstack().values.flatten()\n",
    "\n",
    "final_stats= reshaped_stats.reset_index()"
   ]
  },
  {
   "cell_type": "code",
   "execution_count": 130,
   "id": "c888031e-8085-41ec-bbbb-37e8e3741722",
   "metadata": {},
   "outputs": [
    {
     "data": {
      "text/html": [
       "<div>\n",
       "<style scoped>\n",
       "    .dataframe tbody tr th:only-of-type {\n",
       "        vertical-align: middle;\n",
       "    }\n",
       "\n",
       "    .dataframe tbody tr th {\n",
       "        vertical-align: top;\n",
       "    }\n",
       "\n",
       "    .dataframe thead th {\n",
       "        text-align: right;\n",
       "    }\n",
       "</style>\n",
       "<table border=\"1\" class=\"dataframe\">\n",
       "  <thead>\n",
       "    <tr style=\"text-align: right;\">\n",
       "      <th></th>\n",
       "      <th>level_0</th>\n",
       "      <th>level_1</th>\n",
       "      <th>version</th>\n",
       "      <th>0</th>\n",
       "    </tr>\n",
       "  </thead>\n",
       "  <tbody>\n",
       "    <tr>\n",
       "      <th>0</th>\n",
       "      <td>sum_gamerounds</td>\n",
       "      <td>count</td>\n",
       "      <td>gate_30</td>\n",
       "      <td>39493.0</td>\n",
       "    </tr>\n",
       "    <tr>\n",
       "      <th>1</th>\n",
       "      <td>sum_gamerounds</td>\n",
       "      <td>count</td>\n",
       "      <td>gate_40</td>\n",
       "      <td>40471.0</td>\n",
       "    </tr>\n",
       "    <tr>\n",
       "      <th>2</th>\n",
       "      <td>sum_gamerounds</td>\n",
       "      <td>mean</td>\n",
       "      <td>gate_30</td>\n",
       "      <td>23.596536</td>\n",
       "    </tr>\n",
       "    <tr>\n",
       "      <th>3</th>\n",
       "      <td>sum_gamerounds</td>\n",
       "      <td>mean</td>\n",
       "      <td>gate_40</td>\n",
       "      <td>24.245979</td>\n",
       "    </tr>\n",
       "    <tr>\n",
       "      <th>4</th>\n",
       "      <td>sum_gamerounds</td>\n",
       "      <td>std</td>\n",
       "      <td>gate_30</td>\n",
       "      <td>26.584511</td>\n",
       "    </tr>\n",
       "    <tr>\n",
       "      <th>5</th>\n",
       "      <td>sum_gamerounds</td>\n",
       "      <td>std</td>\n",
       "      <td>gate_40</td>\n",
       "      <td>28.17279</td>\n",
       "    </tr>\n",
       "    <tr>\n",
       "      <th>6</th>\n",
       "      <td>sum_gamerounds</td>\n",
       "      <td>min</td>\n",
       "      <td>gate_30</td>\n",
       "      <td>0.0</td>\n",
       "    </tr>\n",
       "    <tr>\n",
       "      <th>7</th>\n",
       "      <td>sum_gamerounds</td>\n",
       "      <td>min</td>\n",
       "      <td>gate_40</td>\n",
       "      <td>0.0</td>\n",
       "    </tr>\n",
       "    <tr>\n",
       "      <th>8</th>\n",
       "      <td>sum_gamerounds</td>\n",
       "      <td>25%</td>\n",
       "      <td>gate_30</td>\n",
       "      <td>4.0</td>\n",
       "    </tr>\n",
       "    <tr>\n",
       "      <th>9</th>\n",
       "      <td>sum_gamerounds</td>\n",
       "      <td>25%</td>\n",
       "      <td>gate_40</td>\n",
       "      <td>4.0</td>\n",
       "    </tr>\n",
       "    <tr>\n",
       "      <th>10</th>\n",
       "      <td>sum_gamerounds</td>\n",
       "      <td>50%</td>\n",
       "      <td>gate_30</td>\n",
       "      <td>13.0</td>\n",
       "    </tr>\n",
       "    <tr>\n",
       "      <th>11</th>\n",
       "      <td>sum_gamerounds</td>\n",
       "      <td>50%</td>\n",
       "      <td>gate_40</td>\n",
       "      <td>13.0</td>\n",
       "    </tr>\n",
       "    <tr>\n",
       "      <th>12</th>\n",
       "      <td>sum_gamerounds</td>\n",
       "      <td>75%</td>\n",
       "      <td>gate_30</td>\n",
       "      <td>35.0</td>\n",
       "    </tr>\n",
       "    <tr>\n",
       "      <th>13</th>\n",
       "      <td>sum_gamerounds</td>\n",
       "      <td>75%</td>\n",
       "      <td>gate_40</td>\n",
       "      <td>34.0</td>\n",
       "    </tr>\n",
       "    <tr>\n",
       "      <th>14</th>\n",
       "      <td>sum_gamerounds</td>\n",
       "      <td>max</td>\n",
       "      <td>gate_30</td>\n",
       "      <td>117.0</td>\n",
       "    </tr>\n",
       "    <tr>\n",
       "      <th>15</th>\n",
       "      <td>sum_gamerounds</td>\n",
       "      <td>max</td>\n",
       "      <td>gate_40</td>\n",
       "      <td>122.0</td>\n",
       "    </tr>\n",
       "    <tr>\n",
       "      <th>16</th>\n",
       "      <td>skewness</td>\n",
       "      <td></td>\n",
       "      <td></td>\n",
       "      <td>[1.5264981182659405, 1.558962382928122]</td>\n",
       "    </tr>\n",
       "    <tr>\n",
       "      <th>17</th>\n",
       "      <td>kurtosis</td>\n",
       "      <td></td>\n",
       "      <td></td>\n",
       "      <td>[1.7017429836991131, 1.7129695451814868]</td>\n",
       "    </tr>\n",
       "  </tbody>\n",
       "</table>\n",
       "</div>"
      ],
      "text/plain": [
       "           level_0 level_1  version                                         0\n",
       "0   sum_gamerounds   count  gate_30                                   39493.0\n",
       "1   sum_gamerounds   count  gate_40                                   40471.0\n",
       "2   sum_gamerounds    mean  gate_30                                 23.596536\n",
       "3   sum_gamerounds    mean  gate_40                                 24.245979\n",
       "4   sum_gamerounds     std  gate_30                                 26.584511\n",
       "5   sum_gamerounds     std  gate_40                                  28.17279\n",
       "6   sum_gamerounds     min  gate_30                                       0.0\n",
       "7   sum_gamerounds     min  gate_40                                       0.0\n",
       "8   sum_gamerounds     25%  gate_30                                       4.0\n",
       "9   sum_gamerounds     25%  gate_40                                       4.0\n",
       "10  sum_gamerounds     50%  gate_30                                      13.0\n",
       "11  sum_gamerounds     50%  gate_40                                      13.0\n",
       "12  sum_gamerounds     75%  gate_30                                      35.0\n",
       "13  sum_gamerounds     75%  gate_40                                      34.0\n",
       "14  sum_gamerounds     max  gate_30                                     117.0\n",
       "15  sum_gamerounds     max  gate_40                                     122.0\n",
       "16        skewness                    [1.5264981182659405, 1.558962382928122]\n",
       "17        kurtosis                   [1.7017429836991131, 1.7129695451814868]"
      ]
     },
     "execution_count": 130,
     "metadata": {},
     "output_type": "execute_result"
    }
   ],
   "source": [
    "final_stats"
   ]
  },
  {
   "cell_type": "markdown",
   "id": "d6723b36-3b38-4576-9d45-096f12ca132e",
   "metadata": {},
   "source": [
    "Problem Definition:\n",
    "\n",
    "For A/B Testing nature of a problem needs to be defined very distinctly in most cases. It is used to analyze the effect of one independent variable on a dependent variable via a control and a treatment group.\n",
    "\n",
    "Question 1: Has player retention increased by 2% after 1 day?\n",
    "\n",
    "Objective: Decide if the treatment has 2% boost in player retention after one day.\n",
    "\n",
    "Null Hypothesis (H0): Retention rate after 1 day has not increased by 2% in the treatment group compared to the control group.\n",
    "\n",
    "Alternative Hypothesis (H1): Retention rate after 1 day has increased by 2% in the treatment group compared to the control group.\n",
    "\n",
    "Question 2: Has player retention increased by 5% after 7 days?\n",
    "\n",
    "Objective: Determine if the treatment increases player retention by 5% after 7 days.\n",
    "\n",
    "Null Hypothesis (H0): Retention rate after 7 days has not increased by 5% in the treatment group compared to the control group.\n",
    "\n",
    "Alternative Hypothesis (H1): Retention rate after 7 days has increased by 5% in the treatment group compared to the control group.\n",
    "\n",
    "Steps:\n",
    "\n",
    "1. Compute the retention rates observed in each group.\n",
    "2. Conduct a Z-test for proportions to compare these retention rates.\n",
    "3. Assess whether the difference is statistically significant.\n"
   ]
  },
  {
   "cell_type": "code",
   "execution_count": 133,
   "id": "856b7ae7-c585-4eb8-9e83-74fb044f82b3",
   "metadata": {},
   "outputs": [],
   "source": [
    "import scipy.stats as stats\n",
    "\n",
    "alpha=0.05\n",
    "beta=0.2\n",
    "power=1-beta"
   ]
  },
  {
   "cell_type": "code",
   "execution_count": 135,
   "id": "b21c93e9-013c-4483-89f4-5eec8b4a9044",
   "metadata": {},
   "outputs": [],
   "source": [
    "z_alpha = stats.norm.ppf(1-alpha/2)\n",
    "z_power= stats.norm.ppf(power)\n",
    "\n",
    "p1_r1= control_group['retention_1'].mean()\n",
    "p2_r1= p1_r1+ 0.02\n",
    "\n",
    "p1_r7= control_group['retention_7'].mean()\n",
    "p2_r7= p1_r7+0.05\n",
    "\n",
    "# Determining sample size for Binary A/B Testing\n",
    "\n",
    "def sample_size(p1,p2, z_alpha, z_beta):\n",
    "    pooled_prob = (p1 + p2) / 2\n",
    "    return int(((z_alpha * (2 * pooled_prob * (1 - pooled_prob)) ** 0.5 + z_power * (p1 * (1 - p1) + p2 * (1 - p2)) ** 0.5) / (p1 - p2)) ** 2)\n"
   ]
  },
  {
   "cell_type": "code",
   "execution_count": 137,
   "id": "c16d941a-15a1-4c73-b266-ad56ea9f8b7d",
   "metadata": {},
   "outputs": [],
   "source": [
    "n_r1= sample_size(p1_r1,p2_r1, z_alpha,z_power)\n",
    "n_r7= sample_size(p1_r7,p2_r7,z_alpha,z_power)"
   ]
  },
  {
   "cell_type": "code",
   "execution_count": 139,
   "id": "fc998a12-aa3b-4c40-8db4-7c148ebfdef9",
   "metadata": {},
   "outputs": [
    {
     "data": {
      "text/plain": [
       "(9397, 761)"
      ]
     },
     "execution_count": 139,
     "metadata": {},
     "output_type": "execute_result"
    }
   ],
   "source": [
    "n_r1,n_r7"
   ]
  },
  {
   "cell_type": "code",
   "execution_count": 141,
   "id": "dc6ad722-f4bd-4ed9-ad41-2d834399d335",
   "metadata": {},
   "outputs": [
    {
     "name": "stdout",
     "output_type": "stream",
     "text": [
      "Sample size of control group for retention 1 day: 9397\n",
      "Sample size of test group for retention 1 day: 9397\n",
      "Sample size of control group for retention 7 day: 761\n",
      "Sample size of test group for retention 7 day: 761\n"
     ]
    }
   ],
   "source": [
    "np.random.seed(42)\n",
    "\n",
    "control_sample_r1 = control_group.sample(n=int(n_r1),random_state=42)\n",
    "test_sample_r1 = test_group.sample(n=int(n_r1),random_state=42)\n",
    "\n",
    "control_sample_r7 = control_group.sample(n=int(n_r7),random_state=43)\n",
    "test_sample_r7 = test_group.sample(n=int(n_r7),random_state=43)\n",
    "\n",
    "print(f\"Sample size of control group for retention 1 day: {len(control_sample_r1)}\")\n",
    "print(f\"Sample size of test group for retention 1 day: {len(test_sample_r1)}\")\n",
    "\n",
    "print(f\"Sample size of control group for retention 7 day: {len(control_sample_r7)}\")\n",
    "print(f\"Sample size of test group for retention 7 day: {len(test_sample_r7)}\")\n"
   ]
  },
  {
   "cell_type": "markdown",
   "id": "e8446b4d-035f-4a9a-b4fb-45c6992ebab8",
   "metadata": {},
   "source": []
  },
  {
   "cell_type": "code",
   "execution_count": 144,
   "id": "b86656b0-262e-4726-a0be-9536c1911a32",
   "metadata": {},
   "outputs": [
    {
     "name": "stdout",
     "output_type": "stream",
     "text": [
      "All assumptions are met for the Z-test.\n",
      "Z-statistic for retention_1: -0.6299651909770788\n",
      "P-value for retention_1: 0.73564132058017\n",
      "Fail to reject the null hypothesis: The retention_1 has not significantly increased.\n",
      "All assumptions are met for the Z-test.\n",
      "Z-statistic for retention_7: -1.933298872613932\n",
      "P-value for retention_7: 0.9734003046855899\n",
      "Fail to reject the null hypothesis: The retention_7 has not significantly increased.\n"
     ]
    }
   ],
   "source": [
    "from statsmodels.stats.proportion import proportions_ztest\n",
    "\n",
    "def perform_z_test(control_group, test_group, alpha=0.05, metric='metric_name', uplift=None):\n",
    "    p_control = control_group[metric].mean()\n",
    "    p_test = p_control + uplift if uplift is not None else test_group[metric].mean()\n",
    "    n_control = len(control_group)\n",
    "    n_test = len(test_group)\n",
    "\n",
    "    assumptions_met = True\n",
    "    if n_control * p_control <= 5:\n",
    "        print(\"Assumption not met: np > 5 for control group\")\n",
    "        assumptions_met = False\n",
    "    if n_control * (1 - p_control) <= 5:\n",
    "        print(\"Assumption not met: n(1-p) > 5 for control group\")\n",
    "        assumptions_met = False\n",
    "    if n_test * p_test <= 5:\n",
    "        print(\"Assumption not met: np > 5 for treatment group\")\n",
    "        assumptions_met = False\n",
    "    if n_test * (1 - p_test) <= 5:\n",
    "        print(\"Assumption not met: n(1-p) > 5 for treatment group\")\n",
    "        assumptions_met = False\n",
    "\n",
    "    if assumptions_met:\n",
    "        print(\"All assumptions are met for the Z-test.\")\n",
    "\n",
    "        successes = [test_group[metric].sum(), control_group[metric].sum()]\n",
    "        n_obs = [len(test_group), len(control_group)]\n",
    "\n",
    "        z_stat, p_val = proportions_ztest(successes, n_obs, value=0, alternative='larger')\n",
    "\n",
    "        print(f\"Z-statistic for {metric}: {z_stat}\")\n",
    "        print(f\"P-value for {metric}: {p_val}\")\n",
    "\n",
    "        if p_val < alpha:\n",
    "            print(f\"Reject the null hypothesis: The {metric} has significantly increased.\")\n",
    "        else:\n",
    "            print(f\"Fail to reject the null hypothesis: The {metric} has not significantly increased.\")\n",
    "    else:\n",
    "        print(\"Z-test assumptions not met, cannot perform the test.\")\n",
    "\n",
    "perform_z_test(control_sample_r1, test_sample_r1, alpha=0.05, metric='retention_1', uplift=0.02)\n",
    "\n",
    "perform_z_test(control_sample_r7, test_sample_r7, alpha=0.05, metric='retention_7', uplift=0.05)\n"
   ]
  },
  {
   "cell_type": "markdown",
   "id": "4aa58c1d-9371-40d1-bfbe-45ae823abeb7",
   "metadata": {},
   "source": [
    "\n",
    "Question 3: Has the mean number of game sessions risen by 5 sessions?\n",
    "\n",
    "Objective: To assess whether the intervention has led to a 5-session increase in the average number of game sessions.\n",
    "\n",
    "Null Hypothesis (H0): The mean number of game sessions in the treatment group has not gone up by 5 sessions when compared to the control group.\n",
    "\n",
    "Alternative Hypothesis (H1): The mean number of game sessions in the treatment group has risen by 5 sessions in comparison to the control group.\n",
    "\n",
    "Steps:\n",
    "\n",
    "1. Compute the average and standard deviation of the total game rounds for each group.\n",
    "2. Conduct a two-sample t-test to compare the group averages.\n",
    "3. Assess if the difference is statistically significant."
   ]
  },
  {
   "cell_type": "code",
   "execution_count": 147,
   "id": "84cc7730-1add-48b3-a49d-5343a7556319",
   "metadata": {},
   "outputs": [
    {
     "name": "stdout",
     "output_type": "stream",
     "text": [
      "Required sample size for average number of sum gamerounds test: 471\n"
     ]
    }
   ],
   "source": [
    "# Determining Sample Size for Continous A/B Testing\n",
    "\n",
    "effect_size=5\n",
    "alpha=0.05\n",
    "beta=0.2\n",
    "\n",
    "\n",
    "z_alpha= stats.norm.ppf(1-alpha/2)\n",
    "z_beta= stats.norm.ppf(1-beta)\n",
    "\n",
    "std_dev= pd.concat([control_group['sum_gamerounds'], test_group['sum_gamerounds']]).std()\n",
    "\n",
    "n= int(((z_alpha+z_beta)*std_dev/effect_size)**2*2)\n",
    "\n",
    "print(f\"Required sample size for average number of sum gamerounds test: {n}\")\n"
   ]
  },
  {
   "cell_type": "code",
   "execution_count": 149,
   "id": "37c35cb0-7e24-45da-a703-9f3eb4cbe939",
   "metadata": {},
   "outputs": [],
   "source": [
    "control_rounds_sample= control_group.sample(n=int(n), random_state=42)\n",
    "\n",
    "test_rounds_sample= test_group.sample(n=int(n), random_state=42)"
   ]
  },
  {
   "cell_type": "code",
   "execution_count": 151,
   "id": "b41169da-4cee-4b36-b12e-a56f79e43b37",
   "metadata": {},
   "outputs": [
    {
     "name": "stdout",
     "output_type": "stream",
     "text": [
      "T-statistic for sum game rounds: 2.343965899878341\n",
      "P-value for sum game rounds: 0.019287377427438045\n",
      "Reject the null hypothesis: The game rounds has significantly changed.\n"
     ]
    }
   ],
   "source": [
    "alpha=0.05\n",
    "mean_control = control_rounds_sample['sum_gamerounds'].mean()\n",
    "mean_test = test_rounds_sample['sum_gamerounds'].mean()\n",
    "std_control = control_rounds_sample['sum_gamerounds'].std()\n",
    "std_test = test_rounds_sample['sum_gamerounds'].std()\n",
    "n_control = len(control_rounds_sample)\n",
    "    \n",
    "n_test = len(test_rounds_sample)\n",
    "\n",
    "pooled_std = ((std_control ** 2 / n_control) + (std_test ** 2 / n_test)) ** 0.5\n",
    "\n",
    "t_stat = (mean_test - mean_control) / pooled_std\n",
    "\n",
    "df = n_control + n_test - 2\n",
    "\n",
    "p_val = stats.t.sf(abs(t_stat), df) * 2 \n",
    "\n",
    "print(f\"T-statistic for sum game rounds: {t_stat}\")\n",
    "print(f\"P-value for sum game rounds: {p_val}\")\n",
    "\n",
    "if p_val < alpha:\n",
    "    print(f\"Reject the null hypothesis: The game rounds has significantly changed.\")\n",
    "else:\n",
    "    print(f\"Fail to reject the null hypothesis: The game rounds has not significantly changed.\")\n"
   ]
  },
  {
   "cell_type": "code",
   "execution_count": null,
   "id": "f91188be-cabc-4c10-a3f1-8dab968b6a5d",
   "metadata": {},
   "outputs": [],
   "source": []
  }
 ],
 "metadata": {
  "kernelspec": {
   "display_name": "Python 3 (ipykernel)",
   "language": "python",
   "name": "python3"
  },
  "language_info": {
   "codemirror_mode": {
    "name": "ipython",
    "version": 3
   },
   "file_extension": ".py",
   "mimetype": "text/x-python",
   "name": "python",
   "nbconvert_exporter": "python",
   "pygments_lexer": "ipython3",
   "version": "3.12.4"
  }
 },
 "nbformat": 4,
 "nbformat_minor": 5
}
